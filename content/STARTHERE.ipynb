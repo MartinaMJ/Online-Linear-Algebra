{
 "cells": [
  {
   "cell_type": "markdown",
   "metadata": {},
   "source": [
    "<span style=\"color:#4d84dd; font-size:35px\">Welcome to Online Linear Algebra!</span>"
   ]
  },
  {
   "cell_type": "markdown",
   "metadata": {},
   "source": [
    "<span style=\"color:black; font-size:20px\"> This is a 100% free online environment, built specifically for learning Linear Algebra, its basic concepts and applications throughout general mathematics, engineering, signal processing and many other fields. <br>\n",
    "Our objective towards this environment is to allow interactivity with the users, in which they can actively participate in the constuction and visualization of different algebraic structures, such as matrices, vector spaces, plots, decomposition algorithms and others. <br> This notebook will teach you how to properly use the environment and achieve the best learning experience.</span>"
   ]
  }
 ],
 "metadata": {
  "kernelspec": {
   "display_name": "base",
   "language": "python",
   "name": "python3"
  },
  "language_info": {
   "name": "python",
   "version": "3.9.16"
  },
  "orig_nbformat": 4
 },
 "nbformat": 4,
 "nbformat_minor": 2
}
