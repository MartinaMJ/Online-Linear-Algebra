{
  "metadata": {
    "kernelspec": {
      "name": "python",
      "display_name": "Python (Pyodide)",
      "language": "python"
    },
    "language_info": {
      "codemirror_mode": {
        "name": "python",
        "version": 3
      },
      "file_extension": ".py",
      "mimetype": "text/x-python",
      "name": "python",
      "nbconvert_exporter": "python",
      "pygments_lexer": "ipython3",
      "version": "3.8"
    }
  },
  "nbformat_minor": 5,
  "nbformat": 4,
  "cells": [
    {
      "id": "9f4c9694-7bad-4219-ba56-27071d8bba94",
      "cell_type": "markdown",
      "source": "# LU Decomposition\n\nAs a rule, the methods to be discussed in this book for the solution of\na system of affine equations rely on two general procedures:\n\n-   successive elimination of variables to render the system *upper\n    triangular*,\n\n-   and *backsubstitution* to find the values of each variable.\n\nLet us first write the equations in a more compact form using matrices.\nThe unknowns may be gathered forming an n-tuple\n$\\mathbf{x} \\in \\mathbb{R}^n$. The system of equations becomes\n$A\\mathbf{x} = \\mathbf{b}$, where:\n\n$$\\mathbf{A} = \\left[ \\begin{matrix}\na_{11} & a_{12} & \\cdots & a_{1n} \\\\\na_{21} & a_{22} & \\cdots & a_{2n} \\\\\n\\vdots & \\vdots & \\ddots & \\vdots \\\\\na_{n1} & a_{n2} & \\cdots & a_{nn}\n\\end{matrix}\\right ], \\quad\n\\mathbf{x} = \\left[\\begin{matrix}\nx_1 \\\\\nx_2 \\\\\n\\vdots \\\\\nx_n\n\\end{matrix}\\right], \\quad\n\\mathbf{b} = \\left[\\begin{matrix}\nb_1 \\\\\nb_2 \\\\\n\\vdots \\\\\nb_n\n\\end{matrix} \\right]$$\n\nWe may regard the elimination of $x_2$ from the second equation as the\nresult of a linear transformation $T_{21}$ applied to both sides of\n$A\\mathbf{x} = \\mathbf{b}$. The transformation must not alter the\nsolution, therefore it must be invertible. Let $\\mathbf{x}$ be the\nsolution of $A\\mathbf{x} = \\mathbf{b}$, if $T_{21}^{-1}$ then\n$\\mathbf{x}$ is also the solution of\n$T_{21}A\\mathbf{x} = T_{21}\\mathbf{b}$. This is a sufficient condition\nthat can be readily verified.\n\nLet us build matrix $T_{21}$ row by row. As we do not wish to change the\nfirst row of $A$, the first row of $T_{21}$ will be that of the identity\nmatrix. By a similar argument, we realize that from the third to the\nlast rows, $T_{21}$ shall look like the identity matrix as well. Its\nsecond row must do as follows: it shall multiply the first row of $A$ by\n$-\\frac{a_{21}}{a_{11}}$ and add it to the second row. Therefore we\nhave:\n\n$$\\mathbf{T_{21}} = \\left[ \\begin{matrix}\n1 & 0 & 0 & \\cdots & 0 \\\\\n-\\frac{a_{21}}{a_{11}} & 1 & 0 & \\cdots & 0 \\\\\n0 & 0 & 1 & \\cdots & 0 \\\\\n\\vdots & \\vdots & \\vdots & \\ddots & \\vdots \\\\\n0 & 0 & 0 & \\cdots & 1\n\\end{matrix} \\right]$$\n\n$T_{21}$ is a lower triangular matrix and its particular format allows\nus to discover $T_{21}^{-1}$ by inspection:\n\n$$\\mathbf{T_{21}^{-1}} = \\left[ \\begin{matrix}\n1 & 0 & 0 & \\cdots & 0 \\\\\n\\frac{a_{21}}{a_{11}} & 1 & 0 & \\cdots & 0 \\\\\n0 & 0 & 1 & \\cdots & 0 \\\\\n\\vdots & \\vdots & \\vdots & \\ddots & \\vdots \\\\\n0 & 0 & 0 & \\cdots & 1\n\\end{matrix} \\right]$$\n\nNotice, again, that existence of $T_{21}$ (and of $T_{21}^{-1}$)\nrequires that $a_{11} \\neq 0$. We will deal with this exception later in\nthis chapter.\n\nThe transformed matrix $T_{21}A$ looks like\n\n$$\\mathbf{T_{21}A} = \\left[ \\begin{matrix}\na_{11} & a_{12} & \\cdots & a_{1n} \\\\\n0 & a_{22} - a_{12}a_{21}/a_{11} & \\cdots & a_{2n} - a_{1n}a_{21}/a_{11} \\\\\na_{31} & a_{32} & \\cdots & a_{3n} \\\\\n\\vdots & \\vdots & \\ddots & \\vdots \\\\\na_{n1} & a_{n2} & \\cdots & a_{nn}\n\\end{matrix} \\right]$$\n\nIn order to eliminate $x_1$ from the third equation, we can build\nanother invertible lower triangular matrix $T_{31}$ as\n\n$$\\mathbf{T_{31}} = \\left[ \\begin{matrix}\n1 & 0 & 0 & \\cdots & 0 \\\\\n0 & 1 & 0 & \\cdots & 0 \\\\\n-\\frac{a_{31}}{a_{11}} & 0 & 1 & \\cdots & 0 \\\\\n\\vdots & \\vdots & \\vdots & \\ddots & \\vdots \\\\\n0 & 0 & 0 & \\cdots & 1\n\\end{matrix} \\right]$$\n\nNow the transformed matrix $T_{31}T_{21}A$ becomes\n\n$$\\mathbf{T_{31}T_{21}A} = \\left[ \\begin{matrix}\na_{11} & a_{12} & \\cdots & a_{1n} \\\\\n0 & a_{22} - a_{12}a_{21}/a_{11} & \\cdots & a_{2n} - a_{1n}a_{21}/a_{11} \\\\\n0 & a_{32} - a_{12}a_{31}/a_{11} & \\cdots & a_{3n} - a_{1n}a_{31}/a_{11} \\\\\na_{41} & a_{42} & \\cdots & a_{4n} \\\\\n\\vdots & \\vdots & \\ddots & \\vdots\n\\end{matrix} \\right]$$\n\nThe succession of transformations $T_{n-1} \\cdots T_1 \\cdots T_{21}$\neliminate all elements below $a_{11}$. Once the first column has been\nprepared, we shall eliminate the elements from the second column with\ntransformations $T_{n-2} \\cdots T_{32}$, then from the third column\nuntil column $n-1$. As a result, we are left with a system\n\n$$\\mathbf{T_{nn} \\cdots T_{n-1n-2} \\cdots T_{11} \\cdots T_{21}A\\mathbf{x} = T_{nn} \\cdots T_{n-1n-2} \\cdots T_{11} \\cdots T_{21}\\mathbf{b}}$$\n\nwhich has the same solution $\\mathbf{x}$ as the original system.\nFurthermore, the transformed matrix\n$\\mathbf{U = T_{n-1} \\cdots T_2T_1 \\cdots T_{21}A}$ is upper triangular and the\ncomposite transformation\n$\\mathbf{T = T_{nn} \\cdots T_{n-1} \\cdots T_{21} \\cdots T_1}$ is lower triangular\nand invertible:\n\n$$\\mathbf{L = T^{-1} = T_{21}^{-1} \\cdots T_1^{-1} T_{n-1}^{-1} \\cdots T_{m-1}^{-1}}$$\n\nEach inverse of a particular transformation $T_{ij}$ is trivially\nobtained as a lower triangular matrix, also with all elements in its\nmain diagonal equal to 1 and all other elements equal to zero, except\nelement $ij$, which is the opposite of the corresponding element from\n$T_{ij}$.\n\nThe new transformed system of equations can be written as\n\n$$\\mathbf{U\\mathbf{x} = T\\mathbf{b}}$$\n\nwhich can be solved by back substitution. What we have just done was to\ndecompose the matrix $A$ in lower and upper triangular factors:\n$\\mathbf{A = LU}$.\n\nThe LU decomposition does not require that **A** be a square matrix. The\nmethod just outlined is able to eliminate all elements in positions\n$(i, j), i > j$, of a matrix. When **A** has n rows and m columns, if\n$n > m)$ we will find that rows m+1, ..., n will be filled with zeros.\nOn the other hand, if $n < m$ the method stops after transforming the\nnth column. In any case, **A = LU**, where $\\mathbf{U} : Rm \\to Rn$ and\n**L** is a linear operator in $\\mathbb{R}n$, lower triangular, and with\nall elements in its main diagonal equal to one.\n\n# Permutations and the PLU Decomposition\n\nAny matrix $A : \\mathbb{R}^{m} \\to \\mathbb{R}^{n}$ admits a\ndecomposition as a permutation matrix $P$, a lower triangular matrix $L$\nwith all elements in the main diagonal equal to one, and an upper\ntriangular matrix $U$, i.e., $A = PLU$.\n\nIt suffices to prove that $U = L^{-1}PA$, where $L^{-1}$, being the\ninverse of $L$, is also lower triangular with all elements of the main\ndiagonal equal to one. We will use the fact that a composite of lower\ntriangular linear operations is also lower triangular, and also that a\ncomposite of permutations is also a permutation.\n\nLet us start the proof assuming that the first column of $A$ has at\nleast one non-zero element. If this is not the case, nothing needs to be\ndone for the first column, and the decomposition starts with the second\ncolumn of $A$. In order to make the element in the position $(1,1)$\ndifferent from zero, we need to apply a permutation $P_1$ that exchanges\nthe first and any $k$-th row of $A$, given that the element of $A$ in\nposition $(k,1)$ is different from zero. This operation shall give us\n$\\tilde{A}_1 = P_1A$. Now we can apply a succession of operations for\nthe elimination of each nonzero element of the first column of\n$\\tilde{A}_1$. Therefore we have $A_1 = T_1P_1A$, where $T_1$ is the\nlower triangular matrix which is a composite of linear operations that\neliminate elements $(i,1)$, $i = 2, \\dots, n$:\n\n$$\\mathbf{T_1} = \\begin{bmatrix}\n1 & 0 & 0 & \\dots & 0 \\\\\n* & 1 & 0 & \\dots & 0 \\\\\n0 & * & 1 & \\dots & 0 \\\\\n\\vdots & \\vdots & \\vdots & \\ddots & \\vdots \\\\\n0 & 0 & 0 & \\dots & 1\n\\end{bmatrix}, \\quad \n\\mathbf{A_1 = T_1P_1A} = \\begin{bmatrix}\n* & * & \\dots & * \\\\\n0 & * & \\dots & * \\\\\n\\vdots & \\vdots & \\ddots & \\vdots \\\\\n0 & 0 & \\dots & *\n\\end{bmatrix}$$\n\nNow we proceed with elimination of terms for the second column, the\nthird column, and so on, until we find a particular column, say, the\n$j$-th column, whose element in position $(j,j)$ is equal to zero in the\ntransformed matrix $A_{j-1} = T_{j-1} \\dots T_1P_1A$. If this element is\nnot in the last row $(n)$, it means we need to exchange the $j$-th and\n$l$-th rows, $l > j$ chosen such that the element in position\n$(l,j) \\neq 0$. This action is performed by the permutation matrix\n$P_j$, which yields $\\tilde{A}_j = P_jT_{j-1} \\dots T_1P_1A$. If there\nis no element which satisfies the nonzero condition, elimination is\nready for this column, there is no need for permutation, and we can\nproceed to the next column. For simplicity, we will combine the\ncomposition of all matrices $T_{j-1} \\dots T_1$ as a single matrix\n$T_{j-1,1}$, which is lower triangular with all elements in its main\ndiagonal equal to one, all other elements equal to zero, except those in\ncolumns $1, \\dots, j-1$. Therefore $\\tilde{A}_j = P_jT_{j-1,1}P_1A$. The\ntransformation which eliminates the elements below the position $(j,j)$\nin $\\tilde{A}_j$ is $T_j$. Now we have $A_j = T_jP_jT_{j-1,1}P_1A$.\n\n$$\\mathbf{A_j} = \\begin{bmatrix}\n* & * & \\dots & * & * \\dots * \\\\\n0 & * & * & \\dots & * \\dots * \\\\\n\\vdots & : & : & : & : & \\vdots \\\\\n0 & 0 & 0 & \\dots & * \\dots * \\\\\n0 & 0 & 0 & 0 & \\dots & * \\\\\n0 & \\dots & 0 & 0 & 0 & \\dots * \\\\\n\\end{bmatrix}$$\n\nAlthough $A$ has the zeros in the proper places, the sequence of\ntransformations is not in the order we want, because $T_jP_jT_{j-1,1}$\nis not lower triangular. However, as $P_jP_j = I$, we can rewrite $A_j$\nas:\n\n$$ A_j = T_jP_jT_{j-1,1}P_1A$$\n$$     = T_jP_jT_{j-1,1}P_jP_jP_1A$$\n$$     = T_j\\tilde{T}_{j-1,1}P_jP_1A$$\n\nwhere $\\tilde{T}_{j-1,1} = P_jT_{j-1,1}P_j$ is lower triangular with all\nelements in the main diagonal equal to one, all other elements equal to\nzero, except those located in the columns $1, \\dots, j-1$.\n\nAs we proceed towards the $m$-th column, whenever an element in the\ndiagonal is zero, we may apply the permutation as above, which\nguarantees that all elements below the main diagonal are eliminated and\nthe decomposition is performed with a sequence of lower triangular\nmatrices followed by a sequence of permutation matrices, as described.\nThe product of all lower triangular matrices is denoted by $L^{-1}$ and\nthe product of all elementary permutation matrices is denoted by $P$.\nThe result is an upper triangular matrix $U = L^{-1}PA$, or\nequivalently, $A = PLU$.",
      "metadata": {}
    },
    {
      "id": "6198492f-0672-4b59-95eb-a010fa216e18",
      "cell_type": "markdown",
      "source": "### Example of PLU Decomposition with Partial Pivoting\nBefore seeing some real application, lets start with a simple PLU Decomposion with partial pivoting. The code bellow, allows you to change the elements of an A matrix and decompose it into P, L and U matrices. Feel free to alter the A matrix's dimensions, directly in the code, and then check what happens to the decomposition.\n\n",
      "metadata": {}
    },
    {
      "id": "e0860c94-da95-4b49-a0d6-0d4c677fa2c2",
      "cell_type": "code",
      "source": "%pip install -q ipywidgets==8.0.7 ",
      "metadata": {
        "trusted": true
      },
      "outputs": [],
      "execution_count": 1
    },
    {
      "id": "9ebe5d30-d529-4a48-ab5e-b3736cb2a66d",
      "cell_type": "code",
      "source": "import numpy as np\nimport ipywidgets as widgets\nfrom IPython.display import display, clear_output, Markdown\nfrom scipy.linalg import lu",
      "metadata": {
        "trusted": true
      },
      "outputs": [],
      "execution_count": 2
    },
    {
      "id": "0a018f7b-102c-4914-b089-6a151a009d88",
      "cell_type": "code",
      "source": "# Function to perform PLU decomposition\ndef plu_decomposition(A):\n    P, L, U = lu(A)\n    return P, L, U\n\n# Create an Output widget to display matrices\noutput = widgets.Output()\n\n# Display function to update PLU decomposition\ndef update_matrix(a11, a12, a13, a21, a22, a23, a31, a32, a33):\n    A = np.array([[a11, a12, a13], \n                  [a21, a22, a23], \n                  [a31, a32, a33]])\n    P, L, U = plu_decomposition(A)\n    np.set_printoptions(precision=4, suppress=True)\n    \n    with output:\n        output.clear_output()\n        \n        display(Markdown(\"#### Matrix A:\"))\n        display(A)\n\n        display(Markdown(\"#### Permutation Matrix P:\"))\n        display(P)\n\n        display(Markdown(\"#### Lower Triangular Matrix L:\"))\n        display(L)\n\n        display(Markdown(\"#### Upper Triangular Matrix U:\"))\n        display(U)\n\n# Widgets to adjust matrix elements\na11 = widgets.FloatSlider(value=1.0, min=-10.0, max=10.0, step=0.1, description='A[0,0]')\na12 = widgets.FloatSlider(value=2.0, min=-10.0, max=10.0, step=0.1, description='A[0,1]')\na13 = widgets.FloatSlider(value=3.0, min=-10.0, max=10.0, step=0.1, description='A[0,2]')\na21 = widgets.FloatSlider(value=4.0, min=-10.0, max=10.0, step=0.1, description='A[1,0]')\na22 = widgets.FloatSlider(value=5.0, min=-10.0, max=10.0, step=0.1, description='A[1,1]')\na23 = widgets.FloatSlider(value=6.0, min=-10.0, max=10.0, step=0.1, description='A[1,2]')\na31 = widgets.FloatSlider(value=7.0, min=-10.0, max=10.0, step=0.1, description='A[2,0]')\na32 = widgets.FloatSlider(value=8.0, min=-10.0, max=10.0, step=0.1, description='A[2,1]')\na33 = widgets.FloatSlider(value=9.0, min=-10.0, max=10.0, step=0.1, description='A[2,2]')\n\n# Button to trigger the decomposition\nbutton = widgets.Button(description=\"PLU Decomposition\")\n\n# Action on button click\nbutton.on_click(lambda b: update_matrix(a11.value, a12.value, a13.value, \n                                          a21.value, a22.value, a23.value, \n                                          a31.value, a32.value, a33.value))\n\n# Layout the widgets\n\nmatrix_inputs = widgets.VBox([a11, a12, a13, a21, a22, a23, a31, a32, a33])\ndisplay(matrix_inputs, button, output)\n",
      "metadata": {
        "trusted": true
      },
      "outputs": [
        {
          "output_type": "display_data",
          "data": {
            "text/plain": "VBox(children=(FloatSlider(value=1.0, description='A[0,0]', max=10.0, min=-10.0), FloatSlider(value=2.0, descr…",
            "application/vnd.jupyter.widget-view+json": {
              "version_major": 2,
              "version_minor": 0,
              "model_id": "4a8d0a648cd9450687966331ab126c23"
            }
          },
          "metadata": {}
        },
        {
          "output_type": "display_data",
          "data": {
            "text/plain": "Button(description='PLU Decomposition', style=ButtonStyle())",
            "application/vnd.jupyter.widget-view+json": {
              "version_major": 2,
              "version_minor": 0,
              "model_id": "9e85693a72b34493bd724b8c1ac5ff08"
            }
          },
          "metadata": {}
        },
        {
          "output_type": "display_data",
          "data": {
            "text/plain": "Output()",
            "application/vnd.jupyter.widget-view+json": {
              "version_major": 2,
              "version_minor": 0,
              "model_id": "b2262576a6f941bfa4bdb04d552ade71"
            }
          },
          "metadata": {}
        }
      ],
      "execution_count": 7
    },
    {
      "id": "7994acb7-63ae-4eb5-8756-912952f00c93",
      "cell_type": "markdown",
      "source": "### Using PLU to encrypt texts\nIn cryptography, matrix decompositions like PLU are used to analyze and break encryption methods. Some modern encryption techniques rely on the hardness of solving certain matrix equations, and understanding LU decomposition is critical for evaluating their security. In the Hill cipher, the plaintext is represented as a vector, and the encryption key is a square matrix. The ciphertext is generated by multiplying the plaintext vector by the key matrix (mod some integer, typically the size of the alphabet). To decrypt, we need the inverse of the key matrix. PLU decomposition helps in cryptography by offering an efficient way to invert matrices, which is essential when decrypting encrypted messages.",
      "metadata": {}
    },
    {
      "id": "8d65ee68-e02e-4b57-994e-065cf4eda16f",
      "cell_type": "code",
      "source": "def mod_inv(a, m):\n    \"\"\"Return modular inverse of a under mod m if it exists.\"\"\"\n    for x in range(1, m):\n        if (a * x) % m == 1:\n            return x\n    raise ValueError(f\"No modular inverse for {a} under mod {m}\")\n\ndef mod_matrix_inv(matrix, mod):\n    \"\"\"Find the modular inverse of a matrix under modulo.\"\"\"\n    det = int(np.round(np.linalg.det(matrix)))\n    det_inv = mod_inv(det % mod, mod)  # Modular inverse of the determinant\n    matrix_inv = np.linalg.inv(matrix)  # Inverse of the matrix\n    adjugate = np.round(det * matrix_inv).astype(int) % mod  # Adjugate matrix\n    return (det_inv * adjugate) % mod\n\n# Function to convert text into vector\ndef text_to_vector(plain_text, n, alphabet='ABCDEFGHIJKLMNOPQRSTUVWXYZ'):\n    indices = [alphabet.index(c) for c in plain_text]\n    return np.array(indices).reshape(-1, n).T\n\n# Function to convert vector into text\ndef vector_to_text(vector, alphabet='ABCDEFGHIJKLMNOPQRSTUVWXYZ'):\n    flat = vector.T.flatten()\n    return ''.join([alphabet[i % len(alphabet)] for i in flat])\n\n# Encrypt using Hill Cipher\ndef hill_encrypt(plain_text, key_matrix, alphabet='ABCDEFGHIJKLMNOPQRSTUVWXYZ'):\n    n = key_matrix.shape[0]\n    vectorized_text = text_to_vector(plain_text, n, alphabet)\n    encrypted_vector = np.dot(key_matrix, vectorized_text) % len(alphabet)\n    encrypted_text = vector_to_text(encrypted_vector, alphabet)\n    return encrypted_text\n\n# Decrypt using the modular inverse of the matrix\ndef hill_decrypt(cipher_text, key_matrix, alphabet='ABCDEFGHIJKLMNOPQRSTUVWXYZ'):\n    n = key_matrix.shape[0]\n    inv_key_matrix = mod_matrix_inv(key_matrix, len(alphabet))  # Mod 26 inverse\n    vectorized_text = text_to_vector(cipher_text, n, alphabet)\n    decrypted_vector = np.dot(inv_key_matrix, vectorized_text) % len(alphabet)\n    decrypted_text = vector_to_text(decrypted_vector, alphabet)\n    return decrypted_text\n\n# Widget to input plaintext\nplaintext_input = widgets.Text(\n    value='ACT',\n    placeholder='Enter text to encrypt',\n    description='Plaintext:',\n    disabled=False\n)\n\n# Widget to input the key matrix values\nkey_matrix_sliders = [\n    widgets.IntSlider(value=6, min=0, max=25, step=1, description='A[0,0]'),\n    widgets.IntSlider(value=24, min=0, max=25, step=1, description='A[0,1]'),\n    widgets.IntSlider(value=1, min=0, max=25, step=1, description='A[0,2]'),\n    widgets.IntSlider(value=13, min=0, max=25, step=1, description='A[1,0]'),\n    widgets.IntSlider(value=16, min=0, max=25, step=1, description='A[1,1]'),\n    widgets.IntSlider(value=10, min=0, max=25, step=1, description='A[1,2]'),\n    widgets.IntSlider(value=20, min=0, max=25, step=1, description='A[2,0]'),\n    widgets.IntSlider(value=17, min=0, max=25, step=1, description='A[2,1]'),\n    widgets.IntSlider(value=15, min=0, max=25, step=1, description='A[2,2]')\n]\n\n# Button to trigger encryption and decryption\nencrypt_decrypt_button = widgets.Button(description=\"Encrypt and Decrypt\")\n\n# Output area\noutput_area = widgets.Output()\n\n# Action on button click\ndef on_button_click(b):\n    # Read the key matrix from the sliders\n    key_matrix = np.array([\n        [key_matrix_sliders[0].value, key_matrix_sliders[1].value, key_matrix_sliders[2].value],\n        [key_matrix_sliders[3].value, key_matrix_sliders[4].value, key_matrix_sliders[5].value],\n        [key_matrix_sliders[6].value, key_matrix_sliders[7].value, key_matrix_sliders[8].value]\n    ])\n    \n    # Get the plaintext\n    plain_text = plaintext_input.value.upper().replace(\" \", \"\")\n    \n    try:\n        # Encrypt the plaintext\n        cipher_text = hill_encrypt(plain_text, key_matrix)\n        \n        # Decrypt the ciphertext\n        decrypted_text = hill_decrypt(cipher_text, key_matrix)\n        \n        # Clear output and display the results\n        with output_area:\n            clear_output(wait=True)\n            display(Markdown(f\"#### Key Matrix:\\n{key_matrix}\"))\n            display(Markdown(f\"#### Plaintext:\\n{plain_text}\"))\n            display(Markdown(f\"#### Ciphertext (Encrypted):\\n{cipher_text}\"))\n            display(Markdown(f\"#### Decrypted Text:\\n{decrypted_text}\"))\n    \n    except ValueError as e:\n        with output_area:\n            clear_output(wait=True)\n            display(Markdown(f\"#### Error: {str(e)}\"))\n\n# Bind the button click action\nencrypt_decrypt_button.on_click(on_button_click)\n\n# Display the widgets\ndisplay(plaintext_input)\ndisplay(widgets.VBox(key_matrix_sliders))\ndisplay(encrypt_decrypt_button)\ndisplay(output_area)\n",
      "metadata": {
        "trusted": true
      },
      "outputs": [
        {
          "output_type": "display_data",
          "data": {
            "text/plain": "Text(value='ACT', description='Plaintext:', placeholder='Enter text to encrypt')",
            "application/vnd.jupyter.widget-view+json": {
              "version_major": 2,
              "version_minor": 0,
              "model_id": "26d631c83aa04cbfb7d829b6ab7cc21b"
            }
          },
          "metadata": {}
        },
        {
          "output_type": "display_data",
          "data": {
            "text/plain": "VBox(children=(IntSlider(value=6, description='A[0,0]', max=25), IntSlider(value=24, description='A[0,1]', max…",
            "application/vnd.jupyter.widget-view+json": {
              "version_major": 2,
              "version_minor": 0,
              "model_id": "1fe6b47b6cbe463e8096bc8584bf2fb2"
            }
          },
          "metadata": {}
        },
        {
          "output_type": "display_data",
          "data": {
            "text/plain": "Button(description='Encrypt and Decrypt', style=ButtonStyle())",
            "application/vnd.jupyter.widget-view+json": {
              "version_major": 2,
              "version_minor": 0,
              "model_id": "3ac308030f42430795d07579963a7f8e"
            }
          },
          "metadata": {}
        },
        {
          "output_type": "display_data",
          "data": {
            "text/plain": "Output()",
            "application/vnd.jupyter.widget-view+json": {
              "version_major": 2,
              "version_minor": 0,
              "model_id": "8e25773a4cba4e4aaea129ce6dae269b"
            }
          },
          "metadata": {}
        }
      ],
      "execution_count": 12
    },
    {
      "id": "661ee06d-c3e3-4a48-a8c9-6476ff58d57e",
      "cell_type": "markdown",
      "source": "NOTE: You can only encrypt/decrypt texts with a maximum of three letters.\n\nBy moving the sliders, you'll notice that the encrypted text also changes. This happens because you're altering the elements of the key matrix, which results in a different encryption.",
      "metadata": {}
    },
    {
      "id": "d285c80e-3ba1-4c4b-8635-d17a3ae1683e",
      "cell_type": "markdown",
      "source": "### References\nhttps://www.geeksforgeeks.org/hill-cipher/\n\nhttps://www.varsitytutors.com/hotmath/hotmath_help/topics/adjoint-of-a-matrix\n\nAnton, H., & Rorres, C. (2010). Elementary linear algebra: Applications version (10th ed.). John Wiley & Sons.",
      "metadata": {}
    }
  ]
}